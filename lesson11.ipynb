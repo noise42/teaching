{
 "cells": [
  {
   "cell_type": "code",
   "execution_count": 1,
   "metadata": {},
   "outputs": [],
   "source": [
    "##FILES - lettura, apertura etc.\n",
    "#string split\n",
    "\n",
    "#list join"
   ]
  },
  {
   "cell_type": "code",
   "execution_count": null,
   "metadata": {},
   "outputs": [],
   "source": [
    "#file csv : comma separated values\n",
    "chiara,francesco,marco,carolina\n",
    "5,2,5,1\n",
    "\n",
    "##creiamo un file così"
   ]
  },
  {
   "cell_type": "code",
   "execution_count": 16,
   "metadata": {},
   "outputs": [],
   "source": [
    "#path è la posizione di un file nel computer\n",
    "#il path può essere\n",
    "##assoluto es: /home/marco/documenti/file.txt (il primo / è proprio una cartella)\n",
    "##relativo: ./file.txt (oppure ../C/file.txt etc..)\n",
    "\n",
    "#open apre i file, il suo \"return\" va messo dentro una variabile\n",
    "file=open(\"data/codingtext.txt\")\n",
    "##file è un FILE HANDLER/HANDLE"
   ]
  },
  {
   "cell_type": "code",
   "execution_count": 2,
   "metadata": {},
   "outputs": [
    {
     "data": {
      "text/plain": [
       "_io.TextIOWrapper"
      ]
     },
     "execution_count": 2,
     "metadata": {},
     "output_type": "execute_result"
    }
   ],
   "source": [
    "type(file)"
   ]
  },
  {
   "cell_type": "code",
   "execution_count": 8,
   "metadata": {},
   "outputs": [
    {
     "data": {
      "text/plain": [
       "int"
      ]
     },
     "execution_count": 8,
     "metadata": {},
     "output_type": "execute_result"
    }
   ],
   "source": [
    "type(10)"
   ]
  },
  {
   "cell_type": "code",
   "execution_count": 17,
   "metadata": {},
   "outputs": [
    {
     "data": {
      "text/plain": [
       "['chiara,francesco,marco,carolina\\n', '5,2,5,1']"
      ]
     },
     "execution_count": 17,
     "metadata": {},
     "output_type": "execute_result"
    }
   ],
   "source": [
    "\n",
    "#readlines()\n",
    "file.readlines()"
   ]
  },
  {
   "cell_type": "code",
   "execution_count": 1,
   "metadata": {},
   "outputs": [
    {
     "ename": "NameError",
     "evalue": "name 'readlines' is not defined",
     "output_type": "error",
     "traceback": [
      "\u001b[1;31m---------------------------------------------------------------------------\u001b[0m",
      "\u001b[1;31mNameError\u001b[0m                                 Traceback (most recent call last)",
      "\u001b[1;32m<ipython-input-1-39195d5f8e9a>\u001b[0m in \u001b[0;36m<module>\u001b[1;34m\u001b[0m\n\u001b[1;32m----> 1\u001b[1;33m \u001b[0mreadlines\u001b[0m\u001b[1;33m(\u001b[0m\u001b[1;33m)\u001b[0m\u001b[1;33m\u001b[0m\u001b[1;33m\u001b[0m\u001b[0m\n\u001b[0m",
      "\u001b[1;31mNameError\u001b[0m: name 'readlines' is not defined"
     ]
    }
   ],
   "source": [
    "##la funzione readlines() è un METODO. Ovvero non è una funzione che esiste a \"sé\" ma deve \n",
    "## essere per forza \"chiamata da\" un tipo che la \"supporta\" o \"implementa\"\n",
    "readlines()"
   ]
  },
  {
   "cell_type": "code",
   "execution_count": 8,
   "metadata": {},
   "outputs": [],
   "source": [
    "#for i in [0,2,4,6,8]:\n",
    "#    print(i)\n",
    "    \n",
    "\n",
    "for i in file:\n",
    "    print(i)\n",
    "    \n",
    "##tutte le volte che \"leggo\" le righe del file (sia con readlines che con un ciclo for),\n",
    "##l'indice del file finisce in fondo e non posso più leggerlo (se non riportando l'indice in cima\n",
    "## ovvero \"richiamando\" open() )"
   ]
  },
  {
   "cell_type": "code",
   "execution_count": 19,
   "metadata": {},
   "outputs": [
    {
     "name": "stdout",
     "output_type": "stream",
     "text": [
      "chiara,francesco,marco,carolina\n",
      "\n"
     ]
    }
   ],
   "source": [
    "file = open(\"data/codingtext.txt\")\n",
    "print(file.readline())\n",
    "##readline() sposta l'indice di una riga alla volta"
   ]
  },
  {
   "cell_type": "code",
   "execution_count": 20,
   "metadata": {},
   "outputs": [
    {
     "name": "stdout",
     "output_type": "stream",
     "text": [
      "5,2,5,1\n"
     ]
    }
   ],
   "source": [
    "#quindi se ho letto una sola riga, ciclando sopra al file otterrò tutte le rimanenti\n",
    "##(tranne quelle che ho letto)\n",
    "for i in file:\n",
    "    print(i)"
   ]
  },
  {
   "cell_type": "code",
   "execution_count": null,
   "metadata": {},
   "outputs": [],
   "source": []
  }
 ],
 "metadata": {
  "kernelspec": {
   "display_name": "base",
   "language": "python",
   "name": "base"
  },
  "language_info": {
   "codemirror_mode": {
    "name": "ipython",
    "version": 3
   },
   "file_extension": ".py",
   "mimetype": "text/x-python",
   "name": "python",
   "nbconvert_exporter": "python",
   "pygments_lexer": "ipython3",
   "version": "3.8.8"
  }
 },
 "nbformat": 4,
 "nbformat_minor": 4
}
