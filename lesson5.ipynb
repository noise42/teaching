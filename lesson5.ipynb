{
 "cells": [
  {
   "cell_type": "markdown",
   "metadata": {},
   "source": [
    "medie"
   ]
  },
  {
   "cell_type": "code",
   "execution_count": 6,
   "metadata": {},
   "outputs": [],
   "source": [
    "def somma(insieme):  \n",
    "    \"\"\"restituisce la somma di tutti i numeri contenuti\n",
    "    nella lista insieme\"\"\"\n",
    "    tot = 0\n",
    "    for numero in insieme:\n",
    "        tot = numero+tot\n",
    "    return tot\n",
    "\n",
    "def media(insieme):\n",
    "    #somma tutti i numeri\n",
    "    risultato = somma(insieme)\n",
    "    \n",
    "    return risultato\n",
    "    #divide per la quantità di elementi\n",
    "    \n",
    "    "
   ]
  },
  {
   "cell_type": "code",
   "execution_count": 7,
   "metadata": {},
   "outputs": [
    {
     "name": "stdout",
     "output_type": "stream",
     "text": [
      "40\n"
     ]
    }
   ],
   "source": [
    "insieme_test = [5,5,10,20]\n",
    "print(  media(insieme_test)  )\n",
    "\n",
    "### scritta così la funzione \"media\" fa effettivamente solo la somma\n",
    "### (il pezzo \"return risultato\" PRIMA di completare l'algoritmo)"
   ]
  },
  {
   "cell_type": "code",
   "execution_count": 8,
   "metadata": {},
   "outputs": [],
   "source": [
    "## scriviamo la funzione corretta"
   ]
  },
  {
   "cell_type": "code",
   "execution_count": 9,
   "metadata": {},
   "outputs": [],
   "source": [
    "def media(insieme):\n",
    "    #somma tutti i numeri\n",
    "    risultato = somma(insieme)\n",
    "    \n",
    "    #divide per la quantità di elementi\n",
    "    #len(lista) restituisce la lunghezza (il numero di elementi) di una lista\n",
    "    \n",
    "    numero_elementi = len(insieme)\n",
    "    risultato = risultato / numero_elementi\n",
    "    return risultato"
   ]
  },
  {
   "cell_type": "code",
   "execution_count": 10,
   "metadata": {},
   "outputs": [
    {
     "name": "stdout",
     "output_type": "stream",
     "text": [
      "10.0\n"
     ]
    }
   ],
   "source": [
    "print(media(insieme_test))"
   ]
  },
  {
   "cell_type": "code",
   "execution_count": 11,
   "metadata": {},
   "outputs": [
    {
     "name": "stdout",
     "output_type": "stream",
     "text": [
      "{'casa': 'posto in cui si abita', 'cane': 'coso che abbaia', 'gatto': 'figlio di satana'}\n"
     ]
    }
   ],
   "source": [
    "###DIZIONARI\n",
    "## sono mappe chiave:valore\n",
    "\n",
    "dizionario = {'casa':'posto in cui si abita', 'cane':'coso che abbaia',\n",
    "             'gatto':'figlio di satana'}\n",
    "print(dizionario)"
   ]
  },
  {
   "cell_type": "code",
   "execution_count": 12,
   "metadata": {},
   "outputs": [
    {
     "name": "stdout",
     "output_type": "stream",
     "text": [
      "posto in cui si abita\n"
     ]
    }
   ],
   "source": [
    "print(dizionario['casa'])"
   ]
  },
  {
   "cell_type": "code",
   "execution_count": 17,
   "metadata": {},
   "outputs": [],
   "source": [
    "voti_anno = {\n",
    "    'chiara': [6,7,6,8,9,9],\n",
    "    'francesco': [9,9,9,6,6,6],\n",
    "    'conan1': [4,3,1,4,5,6],\n",
    "    'conan2': [4,3,1,4,5,6],\n",
    "    'conan3': [4,3,1,4,5,6],\n",
    "    'conan4': [4,3,1,4,5,6],\n",
    "    'conan5': [4,3,1,4,5,6],\n",
    "    'conan6': [4,3,1,4,5,6],\n",
    "    'conan7': [4,3,1,4,5,6],\n",
    "    'conan8': [4,3,1,4,5,6],\n",
    "    'conan9': [4,3,1,4,5,6],\n",
    "}"
   ]
  },
  {
   "cell_type": "code",
   "execution_count": 14,
   "metadata": {},
   "outputs": [
    {
     "name": "stdout",
     "output_type": "stream",
     "text": [
      "[6, 7, 6, 8, 9, 9]\n"
     ]
    }
   ],
   "source": [
    "print(voti_anno['chiara'])"
   ]
  },
  {
   "cell_type": "code",
   "execution_count": 15,
   "metadata": {},
   "outputs": [
    {
     "name": "stdout",
     "output_type": "stream",
     "text": [
      "7.5\n"
     ]
    }
   ],
   "source": [
    "print( media(voti_anno['chiara']) )"
   ]
  },
  {
   "cell_type": "code",
   "execution_count": null,
   "metadata": {},
   "outputs": [],
   "source": [
    "#non ci vogliamo mettere a fare\n",
    "print( media(voti_anno['chiara']) )\n",
    "print( media(voti_anno['francesco']) )\n",
    "print( media(voti_anno['conan1']) )#..."
   ]
  },
  {
   "cell_type": "code",
   "execution_count": 18,
   "metadata": {},
   "outputs": [
    {
     "name": "stdout",
     "output_type": "stream",
     "text": [
      "la media di  chiara è  7.5\n",
      "la media di  francesco è  7.5\n",
      "la media di  conan1 è  3.8333333333333335\n",
      "la media di  conan2 è  3.8333333333333335\n",
      "la media di  conan3 è  3.8333333333333335\n",
      "la media di  conan4 è  3.8333333333333335\n",
      "la media di  conan5 è  3.8333333333333335\n",
      "la media di  conan6 è  3.8333333333333335\n",
      "la media di  conan7 è  3.8333333333333335\n",
      "la media di  conan8 è  3.8333333333333335\n",
      "la media di  conan9 è  3.8333333333333335\n"
     ]
    }
   ],
   "source": [
    "##tutte le volte che devo ripetere una stessa operazione su un set di elementi, pensiamo\n",
    "##al ciclo FOR\n",
    "\n",
    "for chiave in voti_anno:\n",
    "    #blocco istruzioni da ripetere\n",
    "    print('la media di ', chiave, 'è ', media(voti_anno[chiave]))"
   ]
  },
  {
   "cell_type": "code",
   "execution_count": null,
   "metadata": {},
   "outputs": [],
   "source": [
    "dizionario_pazzo = {\n",
    "    [12,52,6,31,7,135,75,5327,553,2] : 'cane',\n",
    "    [146,325,5,1,3,26,53,15,15,531,153] : 'gatto',\n",
    "}"
   ]
  },
  {
   "cell_type": "code",
   "execution_count": null,
   "metadata": {},
   "outputs": [],
   "source": []
  },
  {
   "cell_type": "code",
   "execution_count": null,
   "metadata": {},
   "outputs": [],
   "source": []
  },
  {
   "cell_type": "markdown",
   "metadata": {},
   "source": [
    "## dizionari\n",
    "Dizionario (questo è Markdown)"
   ]
  },
  {
   "cell_type": "code",
   "execution_count": 1,
   "metadata": {},
   "outputs": [
    {
     "name": "stdout",
     "output_type": "stream",
     "text": [
      "{'marco': 5, 'stefano': 7, 'carolina': 10}\n"
     ]
    }
   ],
   "source": [
    "#il dizionario è un \"contenitore\" di coppie chiave:valore\n",
    "## nome1: lista voti 1\n",
    "## nome2: lista voti 2\n",
    "## ...\n",
    "\n",
    "ultimo_compito = { \"marco\": 5, 'stefano': 7, 'antonio': 4, 'carolina': 10}\n",
    "\n",
    "ultimo_compito = { \n",
    "    \"marco\": 5, \n",
    "    'stefano': 7, \n",
    "    #'giulia': 4, \n",
    "    'carolina': 10,\n",
    "}\n",
    "\n",
    "print(ultimo_compito)"
   ]
  },
  {
   "cell_type": "code",
   "execution_count": 3,
   "metadata": {},
   "outputs": [],
   "source": [
    "voti_anno = {\n",
    "    'marco':[7.5, 9, 6, 4, 8, 8],\n",
    "    'stefano':[8.5, 5, 6, 4, 7, 8],\n",
    "    'carolina': [8.5, 5, 6, 4, 7, 8]\n",
    "}"
   ]
  },
  {
   "cell_type": "markdown",
   "metadata": {},
   "source": [
    "## linguaggi di programmazione\n",
    "* C\n",
    "* C++\n",
    "* Ruby\n",
    "* Java\n",
    "* Python\n",
    "* ..."
   ]
  },
  {
   "cell_type": "markdown",
   "metadata": {},
   "source": [
    "come si legge un file"
   ]
  },
  {
   "cell_type": "code",
   "execution_count": null,
   "metadata": {},
   "outputs": [],
   "source": []
  }
 ],
 "metadata": {
  "kernelspec": {
   "display_name": "base",
   "language": "python",
   "name": "base"
  },
  "language_info": {
   "codemirror_mode": {
    "name": "ipython",
    "version": 3
   },
   "file_extension": ".py",
   "mimetype": "text/x-python",
   "name": "python",
   "nbconvert_exporter": "python",
   "pygments_lexer": "ipython3",
   "version": "3.8.8"
  }
 },
 "nbformat": 4,
 "nbformat_minor": 4
}
