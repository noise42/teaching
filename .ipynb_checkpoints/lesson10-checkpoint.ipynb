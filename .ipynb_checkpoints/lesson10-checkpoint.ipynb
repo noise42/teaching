{
 "cells": [
  {
   "cell_type": "code",
   "execution_count": 4,
   "metadata": {},
   "outputs": [
    {
     "name": "stdout",
     "output_type": "stream",
     "text": [
      "H\n",
      "e\n",
      "l\n",
      "l\n",
      "o\n",
      " \n",
      "W\n",
      "o\n",
      "r\n",
      "l\n",
      "d\n"
     ]
    }
   ],
   "source": [
    "# strings are arrays (or better iterables)\n",
    "\n",
    "# [12,54,66,2,4,6,] -> array -> iterable\n",
    "# \"Hello World\" -> array -> iterable -> \"\"\" ['H','e','l','l','o',...]\"\"\"\n",
    "\n",
    "stringa = \"Hello World\"\n",
    "for letter in stringa:\n",
    "    print(letter)\n",
    "    \n",
    "#in python: una stringa \"Hello\" e un carattere \"H\", hanno lo stesso tipo (altri linguaggi stringa)"
   ]
  },
  {
   "cell_type": "code",
   "execution_count": 18,
   "metadata": {
    "scrolled": true
   },
   "outputs": [
    {
     "name": "stdout",
     "output_type": "stream",
     "text": [
      "h\n",
      "h\n",
      "E\n",
      "C\n",
      "HELLO\n",
      "True\n",
      "False\n",
      "hELLO wORLD\n"
     ]
    }
   ],
   "source": [
    "# Swap Case --> sWAP cASE\n",
    "print('H'.lower())\n",
    "# <oggetto>.funzione() <--- la funzione si chiama \"metodo\"\n",
    "\n",
    "# non esiste lower(), è specifica delle stringa\n",
    "# quando una funzione è specifica di un tipo, va chiamata con la sintassi variabile.funzione()\n",
    "\n",
    "print('H'.lower())\n",
    "print('e'.upper())\n",
    "\n",
    "lettera = 'c'\n",
    "\n",
    "print(lettera.upper())\n",
    "\n",
    "parola = 'Hello'\n",
    "print(parola.upper())\n",
    "\n",
    "#parolaMistaLunghissima = \"Hello World\" ##questa notazione si chiama camelback\n",
    "#parola_mista_lunghissima ##le convenzioni sono notazioni, funzionali a leggere il codice\n",
    "\n",
    "#concetto importante: le funzioni devono essere il più generali possibile\n",
    "\n",
    "#obiettivo, invertire una parola (maiuscolo minuscolo)\n",
    "\"\"\"algoritmo:\n",
    "- prendo ogni lettera\n",
    "- SE è maiuscola la rendo minuscola e viceversa (come faccio a vedere SE? --> isupper(), islower())\n",
    "- \"monto\" la parola finale\n",
    "\"\"\"\n",
    "\n",
    "print('H'.isupper())\n",
    "print('L'.islower())\n",
    "\n",
    "def swapCase(parola):\n",
    "    \"\"\"input: parola\n",
    "    output: parola con case invertito (\"corretta\")\"\"\"\n",
    "    \n",
    "    corretta = \"\"\n",
    "    #prendo ogni lettera\n",
    "    for lettera in parola:\n",
    "        #SE è maiuscola la rendo minuscola e viceversa\n",
    "        if lettera.isupper():\n",
    "            corretta = corretta + lettera.lower()\n",
    "        else:\n",
    "            corretta = corretta + lettera.upper()\n",
    "    \n",
    "    return corretta\n",
    "\n",
    "print(swapCase(\"Hello World\"))"
   ]
  },
  {
   "cell_type": "code",
   "execution_count": null,
   "metadata": {},
   "outputs": [],
   "source": [
    "###riassunto funzioni\n",
    "def nomeFunzione(input):\n",
    "    \"\"\"descrizione della funzione\n",
    "    input : (questo va nelle parentesi di sopra,\n",
    "                può essere più di un argomento)\n",
    "    output : (questo è il return)\n",
    "    \"\"\"\n",
    "    ##blocco di istruzioni (ogni \"flow control\" ha il suo\n",
    "    ## livello di indentazione)\n",
    "    #### flow control : for, if, while, etc.\n",
    "    \n",
    "    return"
   ]
  },
  {
   "cell_type": "code",
   "execution_count": 3,
   "metadata": {},
   "outputs": [],
   "source": [
    "# prossima lezione string split and join"
   ]
  },
  {
   "cell_type": "code",
   "execution_count": null,
   "metadata": {},
   "outputs": [],
   "source": []
  }
 ],
 "metadata": {
  "kernelspec": {
   "display_name": "Python 3",
   "language": "python",
   "name": "python3"
  },
  "language_info": {
   "codemirror_mode": {
    "name": "ipython",
    "version": 3
   },
   "file_extension": ".py",
   "mimetype": "text/x-python",
   "name": "python",
   "nbconvert_exporter": "python",
   "pygments_lexer": "ipython3",
   "version": "3.8.5"
  }
 },
 "nbformat": 4,
 "nbformat_minor": 4
}
