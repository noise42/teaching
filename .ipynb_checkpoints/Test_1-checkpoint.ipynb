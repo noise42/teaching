{
 "cells": [
  {
   "cell_type": "code",
   "execution_count": 1,
   "id": "developing-adjustment",
   "metadata": {},
   "outputs": [],
   "source": [
    "## TEST CODING (prime 15 ore/lezioni)"
   ]
  },
  {
   "cell_type": "markdown",
   "id": "cardiac-operator",
   "metadata": {},
   "source": [
    "1. perché 2 + 2 fa 4, '2'+'2' fa '22' e '2+2' fa '2+2'?\n",
    "2. che differenza c'è tra una lista e un dizionario?\n",
    "3. come faccio ad accedere al quarto elemento di una lista contenente 10 elementi?\n",
    "4. scrivi una funzione che prenda in input una lista di numeri Reali e restituisca il minimo di tale lista, testala\n",
    "5. scrivi una funzione che prenda in input una lista di numeri Reali e restituisca **la posizione** del minimo di tale lista, testala\n",
    "6. in quanti modi posso leggere un file? quali e che differenze hanno?\n",
    "7. cos'è un file .csv?\n",
    "8. Se applico un ciclo *for* ad una stringa cosa ottengo?\n",
    "9. qual è la differenza tra un path relativo ed un path assoluto?\n",
    "10. supponiamo di avere una lista fatta così: myList = [-1,1,-2,2,-3,3,-4,4,-5,5]. Cosa succede se accedo a myList[::2]? Prova a capire e spiegare il funzionamento di questo tipo particolare di slice\n",
    "\n"
   ]
  },
  {
   "cell_type": "code",
   "execution_count": 6,
   "id": "outstanding-chambers",
   "metadata": {},
   "outputs": [
    {
     "name": "stdout",
     "output_type": "stream",
     "text": [
      "False\n"
     ]
    }
   ],
   "source": [
    "truth = 42\n",
    "if truth:\n",
    "    print(False)\n",
    "else:\n",
    "    print(True)"
   ]
  },
  {
   "cell_type": "markdown",
   "id": "comfortable-anchor",
   "metadata": {},
   "source": [
    "11. guardando il codice nella cella sopra di me, che valore deve contenere la variabile *truth* per vedere True scritto a schermo?\n",
    "12. cosa fa l'operatore **not** di fronte ad una variabile booleana?\n",
    "13. supponiamo di avere un dizionario definito così: myDict = { 'chiave1':10, 'chiave2':20, 'chiave3':100 }, con quale istruzione modifico il valore associato a 'chiave3' in 30?\n",
    "14. come viene interpretato il meta-carattere \"\\n\"? ed il meta-carattere \"\\t\"?\n",
    "15. con che istruzione passo dalla stringa \"Sono un interprete python, mi piace cantare ed eseguire algoritmi\" alla lista [\"So\",\"o u\",\" i\",\"terprete pytho\",\", mi piace ca\",\"tare ed eseguire algoritmi\"]?"
   ]
  },
  {
   "cell_type": "code",
   "execution_count": null,
   "id": "every-devices",
   "metadata": {},
   "outputs": [],
   "source": []
  },
  {
   "cell_type": "code",
   "execution_count": null,
   "id": "great-wales",
   "metadata": {},
   "outputs": [],
   "source": []
  }
 ],
 "metadata": {
  "kernelspec": {
   "display_name": "base",
   "language": "python",
   "name": "base"
  },
  "language_info": {
   "codemirror_mode": {
    "name": "ipython",
    "version": 3
   },
   "file_extension": ".py",
   "mimetype": "text/x-python",
   "name": "python",
   "nbconvert_exporter": "python",
   "pygments_lexer": "ipython3",
   "version": "3.8.8"
  }
 },
 "nbformat": 4,
 "nbformat_minor": 5
}
