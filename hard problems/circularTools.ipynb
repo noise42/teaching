{
 "cells": [
  {
   "cell_type": "markdown",
   "metadata": {},
   "source": [
    "## altro problema:\n",
    "macchina rotante con tools\n",
    "['a','b','c','d','c','f','c',]\n",
    "\n",
    "circolare, dall'ultimo elemento si finisce al primo\n",
    "ti do la posizione da cui parto e il TOOL a cui voglio arrivare: trova il minore numero di passi, potendo ruotare da entrambi i lati"
   ]
  },
  {
   "cell_type": "code",
   "execution_count": null,
   "metadata": {},
   "outputs": [],
   "source": []
  }
 ],
 "metadata": {
  "kernelspec": {
   "display_name": "Python 3",
   "language": "python",
   "name": "python3"
  },
  "language_info": {
   "codemirror_mode": {
    "name": "ipython",
    "version": 3
   },
   "file_extension": ".py",
   "mimetype": "text/x-python",
   "name": "python",
   "nbconvert_exporter": "python",
   "pygments_lexer": "ipython3",
   "version": "3.8.5"
  }
 },
 "nbformat": 4,
 "nbformat_minor": 4
}
