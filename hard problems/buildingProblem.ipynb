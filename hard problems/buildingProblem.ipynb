{
 "cells": [
  {
   "cell_type": "code",
   "execution_count": 4,
   "metadata": {},
   "outputs": [],
   "source": [
    "#!/bin/python3\n",
    "\n",
    "import math\n",
    "import os\n",
    "import random\n",
    "import re\n",
    "import sys\n",
    "\n",
    "\n",
    "\n",
    "#\n",
    "# Complete the 'findMinDistance' function below.\n",
    "#\n",
    "# The function is expected to return an INTEGER.\n",
    "# The function accepts following parameters:\n",
    "#  1. INTEGER w\n",
    "#  2. INTEGER h\n",
    "#  3. INTEGER n\n",
    "#\n",
    "\n",
    "def findMinDistance(w, h, n):\n",
    "    # Write your code here\n",
    "    import numpy as np\n",
    "    import itertools as it\n",
    "    size = h * w\n",
    "    IMPOSSIBLE_DISTANCE = 100\n",
    "    def distance(p1,p2):\n",
    "        #assuming points p are (x,y), indices in the matrix\n",
    "        dx = np.abs(p1[0] - p2[0])\n",
    "        dy = np.abs(p1[1] - p2[1])\n",
    "        return dx+dy\n",
    "    def convert1d2d(cols, idx):\n",
    "        return (idx//cols, idx%cols)\n",
    "    \n",
    "    places = it.product(np.arange(h),np.arange(w))\n",
    "\n",
    "    best_configuration_dist = IMPOSSIBLE_DISTANCE\n",
    "    best_configuration = None\n",
    "    \n",
    "    for position in it.combinations(places, r=n):  \n",
    "        #for each building configuration\n",
    "        #print(position)\n",
    "        x_coords = [p[0] for p in position]\n",
    "        y_coords = [p[1] for p in position]\n",
    "        mat = np.ones((h,w))*IMPOSSIBLE_DISTANCE\n",
    "        \n",
    "        for index in np.arange(size): #let's work on linear indices\n",
    "            x,y = convert1d2d(w, index)\n",
    "            \n",
    "            dist = np.min([distance(build_coord, (x,y)) for build_coord in position])\n",
    "            #qua si può uscire se dist è maggiore di una conf precedente migliore\n",
    "            if dist >= best_configuration_dist:\n",
    "                maxdist = IMPOSSIBLE_DISTANCE\n",
    "                break\n",
    "            mat[x,y] = dist #could be vectorized\n",
    "            maxdist = int(np.max(mat))\n",
    "        if maxdist <= best_configuration_dist:\n",
    "            best_configuration_dist = maxdist\n",
    "            best_configuration = mat # for fun\n",
    "        best_configuration_dist = min(maxdist, best_configuration_dist)\n",
    "\n",
    "    return best_configuration_dist, best_configuration\n",
    "\n"
   ]
  },
  {
   "cell_type": "code",
   "execution_count": 7,
   "metadata": {},
   "outputs": [
    {
     "name": "stdout",
     "output_type": "stream",
     "text": [
      "(3, array([[3., 2., 3., 3., 2., 3.],\n",
      "       [2., 1., 2., 2., 1., 2.],\n",
      "       [1., 0., 1., 1., 0., 1.],\n",
      "       [2., 1., 2., 2., 1., 2.],\n",
      "       [3., 2., 3., 3., 2., 3.]]))\n",
      "Wall time: 231 ms\n"
     ]
    }
   ],
   "source": [
    "%%time\n",
    "if __name__ == '__main__':\n",
    "    print(findMinDistance(6,5,2))"
   ]
  },
  {
   "cell_type": "code",
   "execution_count": null,
   "metadata": {},
   "outputs": [],
   "source": []
  }
 ],
 "metadata": {
  "kernelspec": {
   "display_name": "py38",
   "language": "python",
   "name": "py38"
  },
  "language_info": {
   "codemirror_mode": {
    "name": "ipython",
    "version": 3
   },
   "file_extension": ".py",
   "mimetype": "text/x-python",
   "name": "python",
   "nbconvert_exporter": "python",
   "pygments_lexer": "ipython3",
   "version": "3.8.6"
  }
 },
 "nbformat": 4,
 "nbformat_minor": 4
}
