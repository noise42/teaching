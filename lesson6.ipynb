{
 "cells": [
  {
   "cell_type": "markdown",
   "metadata": {},
   "source": [
    "### medie e dizionari"
   ]
  },
  {
   "cell_type": "code",
   "execution_count": 4,
   "metadata": {},
   "outputs": [
    {
     "name": "stdout",
     "output_type": "stream",
     "text": [
      "[8.5, 5, 6, 4, 7, 8]\n",
      "{'marco': [7.5, 9, 6, 4, 8, 8], 'stefano': [8.5, 5, 6, 4, 7, 8], 'carolina': [8.5, 5, 6, 4, 7, 8], 'carlo': [6, 6, 6, 6, 8], 'giulia': [8.5, 5, 6, 4, 7, 8]}\n"
     ]
    }
   ],
   "source": [
    "#sintassi dizionario\n",
    "voti_anno = {\n",
    "    'marco' : [7.5, 9, 6, 4, 8, 8], #chiave : valore\n",
    "    'stefano' : [8.5, 5, 6, 4, 7, 8],\n",
    "    'carolina' : [8.5, 5, 6, 4, 7, 8],\n",
    "}\n",
    "\n",
    "#accedere agli elementi\n",
    "print( voti_anno['stefano']   )\n",
    "\n",
    "#print( voti_anno['carlo'])\n",
    "\n",
    "#creare nuovi elementi (coppie chiave:valore)\n",
    "voti_anno['carlo'] = [6,6,6,6,8]\n",
    "voti_anno['giulia'] = voti_anno['carolina']\n",
    "\n",
    "print(voti_anno)"
   ]
  },
  {
   "cell_type": "code",
   "execution_count": 5,
   "metadata": {},
   "outputs": [
    {
     "name": "stdout",
     "output_type": "stream",
     "text": [
      "7.083333333333333\n"
     ]
    }
   ],
   "source": [
    "# ottenere le medie di tutti gli studenti\n",
    "# per risolvere un problema complesso: dividere in problemi più piccoli\n",
    "\n",
    "#voti = [1, 2, 3, 5, 5, 5]\n",
    "\n",
    "# per prima cosa risolveremo il problema della media di UNO studente\n",
    "somma = 0\n",
    "for voto in voti_anno['marco']:\n",
    "    somma = voto + somma\n",
    "    \n",
    "media = somma / len(voti_anno['marco'])\n",
    "\n",
    "print(media)"
   ]
  },
  {
   "cell_type": "code",
   "execution_count": 7,
   "metadata": {},
   "outputs": [
    {
     "name": "stdout",
     "output_type": "stream",
     "text": [
      "marco\n",
      "[7.5, 9, 6, 4, 8, 8]\n",
      "stefano\n",
      "[8.5, 5, 6, 4, 7, 8]\n",
      "carolina\n",
      "[8.5, 5, 6, 4, 7, 8]\n",
      "carlo\n",
      "[6, 6, 6, 6, 8]\n",
      "giulia\n",
      "[8.5, 5, 6, 4, 7, 8]\n"
     ]
    }
   ],
   "source": [
    "#se ciclo su un dizionario ottengo le chiavi\n",
    "for var in voti_anno:\n",
    "    print(var)\n",
    "    print(voti_anno[var]) # posso accedere ai valori"
   ]
  },
  {
   "cell_type": "code",
   "execution_count": 8,
   "metadata": {},
   "outputs": [
    {
     "name": "stdout",
     "output_type": "stream",
     "text": [
      "la media di marco è 7.083333333333333\n",
      "la media di stefano è 6.416666666666667\n",
      "la media di carolina è 6.416666666666667\n",
      "la media di carlo è 6.4\n",
      "la media di giulia è 6.416666666666667\n"
     ]
    }
   ],
   "source": [
    "for studente in voti_anno:\n",
    "    ###### operazione per ogni studente\n",
    "    somma = 0\n",
    "    for voto in voti_anno[studente]:\n",
    "        somma = voto + somma\n",
    "    \n",
    "    media = somma / len(voti_anno[studente])\n",
    "    ######################\n",
    "\n",
    "    print('la media di', studente, 'è', media)\n"
   ]
  },
  {
   "cell_type": "code",
   "execution_count": 14,
   "metadata": {},
   "outputs": [
    {
     "name": "stdout",
     "output_type": "stream",
     "text": [
      "6.416666666666667\n",
      "4\n"
     ]
    }
   ],
   "source": [
    "## funzione che fa la media\n",
    "def calcola_media(lista_voti):\n",
    "    somma = 0\n",
    "    for voto in lista_voti:\n",
    "        somma = voto + somma\n",
    "    \n",
    "    media = somma / len(lista_voti)\n",
    "    \n",
    "    return media\n",
    "    \n",
    "\n",
    "    \n",
    "    \n",
    "print( calcola_media( voti_anno['stefano']   )  )\n",
    "\n",
    "print(  len( [ 1,2,3,3 ])) ### return"
   ]
  },
  {
   "cell_type": "code",
   "execution_count": 15,
   "metadata": {},
   "outputs": [
    {
     "name": "stdout",
     "output_type": "stream",
     "text": [
      "la media di marco è 7.083333333333333\n",
      "la media di stefano è 6.416666666666667\n",
      "la media di carolina è 6.416666666666667\n",
      "la media di carlo è 6.4\n",
      "la media di giulia è 6.416666666666667\n"
     ]
    }
   ],
   "source": [
    "for studente in voti_anno:\n",
    "    media = calcola_media( voti_anno[studente])\n",
    "    print('la media di', studente, 'è', media)"
   ]
  },
  {
   "cell_type": "code",
   "execution_count": null,
   "metadata": {},
   "outputs": [],
   "source": []
  }
 ],
 "metadata": {
  "kernelspec": {
   "display_name": "base",
   "language": "python",
   "name": "base"
  },
  "language_info": {
   "codemirror_mode": {
    "name": "ipython",
    "version": 3
   },
   "file_extension": ".py",
   "mimetype": "text/x-python",
   "name": "python",
   "nbconvert_exporter": "python",
   "pygments_lexer": "ipython3",
   "version": "3.8.8"
  }
 },
 "nbformat": 4,
 "nbformat_minor": 4
}
