{
 "cells": [
  {
   "cell_type": "markdown",
   "metadata": {},
   "source": [
    "i file in un computer sono organizzati in un FileSystem (FS)\n",
    "\n",
    "un FS è come un albero rovesciato"
   ]
  },
  {
   "cell_type": "markdown",
   "metadata": {},
   "source": [
    "ogni file (e cartella) ha un PATH -> il suo indirizzo\n",
    "\n",
    "Il path ci sono due modi per descriverlo:\n",
    "    path assoluto e path relativo\n",
    "    \n",
    "/home/francesco/documenti/\n",
    "   /\n",
    "   |\n",
    "   B\n",
    "  / \\\n",
    " A   C\n",
    " |   |\n",
    " f1  f2\n",
    " path assoluto di f1:   /B/A/f1\n",
    " path relativo di f1 rispetto a C:   ../A/f1\n",
    " "
   ]
  },
  {
   "cell_type": "code",
   "execution_count": 3,
   "metadata": {},
   "outputs": [
    {
     "name": "stdout",
     "output_type": "stream",
     "text": [
      "C:\\Users\\marco\\Documents\\insegnamento\n"
     ]
    }
   ],
   "source": [
    "!echo %cd%"
   ]
  },
  {
   "cell_type": "code",
   "execution_count": null,
   "metadata": {},
   "outputs": [],
   "source": []
  }
 ],
 "metadata": {
  "kernelspec": {
   "display_name": "base",
   "language": "python",
   "name": "base"
  },
  "language_info": {
   "codemirror_mode": {
    "name": "ipython",
    "version": 3
   },
   "file_extension": ".py",
   "mimetype": "text/x-python",
   "name": "python",
   "nbconvert_exporter": "python",
   "pygments_lexer": "ipython3",
   "version": "3.8.8"
  }
 },
 "nbformat": 4,
 "nbformat_minor": 4
}
