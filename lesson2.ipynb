{
 "cells": [
  {
   "cell_type": "markdown",
   "metadata": {},
   "source": [
    "problema:\n",
    "come trovo il massimo di un insieme di numeri se questi numeri mi arrivano uno alla volta e il robottino sa solo dire qual è il più grande tra due di essi?\n",
    "\n",
    "(questo problema deve essere risolvibile anche per 100000 numeri)\n",
    "\n",
    "## argomenti\n",
    "- input\n",
    "- cicli\n",
    "- \n",
    "\n",
    "# algoritmo\n",
    "- il primo numero lo metto in una variabile\n",
    "- per ogni numero che arriva confronto:\n",
    "  - se è più grande di quello nella variabile lo sostituisco\n",
    "  - altrimenti non faccio nulla\n",
    "- quando i numeri sono terminati nella variabile ho il massimo della serie"
   ]
  },
  {
   "cell_type": "code",
   "execution_count": 1,
   "metadata": {},
   "outputs": [
    {
     "name": "stdin",
     "output_type": "stream",
     "text": [
      " 5\n"
     ]
    }
   ],
   "source": [
    "inp = input()"
   ]
  },
  {
   "cell_type": "code",
   "execution_count": 3,
   "metadata": {},
   "outputs": [
    {
     "name": "stdout",
     "output_type": "stream",
     "text": [
      "5\n"
     ]
    }
   ],
   "source": [
    "print(inp)"
   ]
  },
  {
   "cell_type": "code",
   "execution_count": 4,
   "metadata": {},
   "outputs": [
    {
     "name": "stdout",
     "output_type": "stream",
     "text": [
      "55\n"
     ]
    }
   ],
   "source": [
    "print(inp + inp)\n",
    "##sono stringhe!"
   ]
  },
  {
   "cell_type": "code",
   "execution_count": 5,
   "metadata": {},
   "outputs": [
    {
     "name": "stdin",
     "output_type": "stream",
     "text": [
      " 5\n"
     ]
    },
    {
     "name": "stdout",
     "output_type": "stream",
     "text": [
      "10\n"
     ]
    }
   ],
   "source": [
    "inp = int(input())\n",
    "print(inp + inp)"
   ]
  },
  {
   "cell_type": "code",
   "execution_count": 9,
   "metadata": {},
   "outputs": [
    {
     "name": "stdin",
     "output_type": "stream",
     "text": [
      " 5\n"
     ]
    },
    {
     "name": "stdout",
     "output_type": "stream",
     "text": [
      "ciao\n"
     ]
    },
    {
     "name": "stdin",
     "output_type": "stream",
     "text": [
      " 7\n"
     ]
    },
    {
     "name": "stdout",
     "output_type": "stream",
     "text": [
      "ciao\n"
     ]
    },
    {
     "name": "stdin",
     "output_type": "stream",
     "text": [
      " 243\n"
     ]
    },
    {
     "name": "stdout",
     "output_type": "stream",
     "text": [
      "ciao\n"
     ]
    },
    {
     "name": "stdin",
     "output_type": "stream",
     "text": [
      " 6\n"
     ]
    },
    {
     "name": "stdout",
     "output_type": "stream",
     "text": [
      "ciao\n"
     ]
    },
    {
     "name": "stdin",
     "output_type": "stream",
     "text": [
      " 78\n"
     ]
    },
    {
     "name": "stdout",
     "output_type": "stream",
     "text": [
      "ciao\n"
     ]
    },
    {
     "name": "stdin",
     "output_type": "stream",
     "text": [
      " -1\n"
     ]
    },
    {
     "name": "stdout",
     "output_type": "stream",
     "text": [
      "ciao\n",
      "ho finito\n"
     ]
    }
   ],
   "source": [
    "#cicli while\n",
    "inp = 0\n",
    "while inp != -1 :\n",
    "    #blocco di codice del while\n",
    "    inp = int(input())\n",
    "    print('ciao')\n",
    "    \n",
    "print('ho finito')"
   ]
  },
  {
   "cell_type": "code",
   "execution_count": 10,
   "metadata": {},
   "outputs": [
    {
     "name": "stdout",
     "output_type": "stream",
     "text": [
      "var2 maggiore di var1\n"
     ]
    }
   ],
   "source": [
    "#scelte: if\n",
    "\n",
    "var1 = 5\n",
    "var2 = 10\n",
    "\n",
    "if var2 > var1 :\n",
    "    print('var2 maggiore di var1')"
   ]
  },
  {
   "cell_type": "code",
   "execution_count": 18,
   "metadata": {},
   "outputs": [],
   "source": [
    "#scelte: if\n",
    "\n",
    "var1 = 20\n",
    "var2 = 10\n",
    "\n",
    "if var2 > var1 :\n",
    "    print('var2 maggiore di var1')"
   ]
  },
  {
   "cell_type": "code",
   "execution_count": 16,
   "metadata": {},
   "outputs": [
    {
     "name": "stdout",
     "output_type": "stream",
     "text": [
      "var2 maggiore di var1\n",
      "0\n"
     ]
    }
   ],
   "source": [
    "#scelte: if\n",
    "\n",
    "var1 = 20\n",
    "var2 = 100\n",
    "\n",
    "if var2 > var1 :\n",
    "    print('var2 maggiore di var1')\n",
    "    var2= 0\n",
    "else:\n",
    "    print('var1 maggiore di var2')\n",
    "    print('Vasco rossi non è un cantante')\n",
    "    var2 = 1000\n",
    "    \n",
    "print(var2)"
   ]
  },
  {
   "cell_type": "code",
   "execution_count": 21,
   "metadata": {},
   "outputs": [
    {
     "name": "stdin",
     "output_type": "stream",
     "text": [
      " 4\n",
      " 7\n",
      " 2\n",
      " 23\n",
      " 42\n",
      " 8\n",
      " -100\n",
      " -14\n",
      " -1\n"
     ]
    },
    {
     "name": "stdout",
     "output_type": "stream",
     "text": [
      "42\n"
     ]
    }
   ],
   "source": [
    "### per simulare un input di lunghezza indefinita usiamo un ciclo while\n",
    "### che si ferma a -1\n",
    "# inp = -1 assegnazione\n",
    "# inp == -1 confronto\n",
    "inp = 0\n",
    "massimo = -1\n",
    "\n",
    "while inp != -1:\n",
    "    #chiedo un nuovo numero\n",
    "    inp = int( input() )\n",
    "    #abbiamo una scatola (variabile) che si chiama massimo\n",
    "    if inp > massimo:\n",
    "        massimo = inp #assegnazione\n",
    "\n",
    "print(massimo)"
   ]
  },
  {
   "cell_type": "code",
   "execution_count": null,
   "metadata": {},
   "outputs": [],
   "source": []
  }
 ],
 "metadata": {
  "kernelspec": {
   "display_name": "base",
   "language": "python",
   "name": "base"
  },
  "language_info": {
   "codemirror_mode": {
    "name": "ipython",
    "version": 3
   },
   "file_extension": ".py",
   "mimetype": "text/x-python",
   "name": "python",
   "nbconvert_exporter": "python",
   "pygments_lexer": "ipython3",
   "version": "3.8.8"
  }
 },
 "nbformat": 4,
 "nbformat_minor": 4
}
