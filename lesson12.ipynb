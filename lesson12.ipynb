{
 "cells": [
  {
   "cell_type": "code",
   "execution_count": 1,
   "metadata": {},
   "outputs": [],
   "source": [
    "# lettura file "
   ]
  },
  {
   "cell_type": "code",
   "execution_count": 1,
   "metadata": {
    "scrolled": true
   },
   "outputs": [
    {
     "name": "stdout",
     "output_type": "stream",
     "text": [
      "[',rallyid,server,x,y\\n', '0,1,Djokovic,1.86,16.8\\n', '1,3,Djokovic,7.05,16.97\\n', '2,6,Djokovic,8.04,17.8\\n', '3,8,Nadal,4.44,16.24\\n', '4,9,Nadal,5.71,16.4\\n', '5,11,Nadal,4.66,16.24\\n', '6,13,Nadal,5.83,16.72\\n', '7,14,Nadal,0.98,17.3\\n', '8,15,Djokovic,5.58,5.41\\n', '9,17,Djokovic,3.87,10.83\\n', '10,18,Djokovic,5.14,6.51\\n', '11,20,Nadal,6.68,4.64\\n', '12,22,Nadal,2.77,6.71\\n', '13,23,Nadal,4.27,6.51\\n', '14,24,Nadal,7.55,6.66\\n', '15,25,Nadal,1.01,7.63\\n', '16,26,Nadal,5.03,6.32\\n', '17,28,Nadal,3.07,6.41\\n', '18,29,Nadal,7.98,5.93\\n', '19,30,Nadal,1.16,7.9\\n', '20,32,Djokovic,4.53,17.89\\n', '21,34,Djokovic,7.15,17.46\\n', '22,36,Nadal,3.19,16.16\\n', '23,37,Nadal,8.4,16.16\\n', '24,38,Nadal,4.53,15.92\\n', '25,40,Nadal,5.88,16.48\\n', '26,42,Nadal,3.68,16.56\\n', '27,43,Nadal,7.76,16.0\\n', '28,44,Djokovic,8.23,6.96\\n', '29,46,Djokovic,2.61,11.58\\n', '30,48,Djokovic,5.31,5.79\\n', '31,49,Djokovic,1.86,8.77\\n', '32,51,Nadal,7.08,6.81\\n', '33,54,Nadal,1.83,8.0\\n', '34,56,Nadal,5.3,6.36\\n', '35,57,Nadal,4.13,7.48\\n', '36,59,Djokovic,1.4,16.64\\n', '37,60,Djokovic,4.74,15.53\\n', '38,62,Djokovic,1.68,16.32\\n', '39,63,Djokovic,5.08,16.8\\n', '40,64,Djokovic,0.86,16.0\\n', '41,65,Nadal,1.63,16.26\\n', '42,66,Nadal,8.69,17.43\\n', '43,67,Nadal,4.63,17.09\\n', '44,70,Nadal,7.35,16.26\\n', '45,71,Nadal,4.91,15.54\\n', '46,73,Nadal,8.08,15.54\\n', '47,75,Djokovic,2.05,16.84\\n', '48,77,Djokovic,6.16,15.85\\n', '49,78,Djokovic,3.93,16.26\\n', '50,79,Djokovic,5.13,16.67\\n', '51,80,Nadal,5.24,6.79\\n', '52,82,Nadal,7.76,6.49\\n', '53,84,Nadal,3.14,7.48\\n', '54,86,Nadal,7.34,6.44\\n', '55,87,Nadal,1.6,7.91\\n', '56,89,Djokovic,5.9,5.94\\n', '57,91,Djokovic,2.89,9.56\\n', '58,92,Djokovic,5.0,5.94\\n', '59,93,Djokovic,4.92,10.41\\n', '60,94,Djokovic,4.65,6.85\\n', '61,96,Nadal,3.95,17.35\\n', '62,97,Nadal,8.08,17.01\\n', '63,98,Nadal,1.46,16.18\\n', '64,99,Nadal,7.63,16.01\\n', '65,100,Nadal,4.37,16.01\\n', '66,103,Djokovic,1.24,16.76\\n', '67,104,Djokovic,8.25,16.67\\n', '68,105,Djokovic,1.24,16.18\\n', '69,108,Djokovic,5.42,16.51\\n', '70,109,Djokovic,0.93,15.94\\n', '71,110,Djokovic,4.94,16.1\\n', '72,111,Djokovic,1.63,17.52\\n', '73,112,Djokovic,5.2,16.59\\n', '74,114,Djokovic,1.4,15.77\\n', '75,115,Djokovic,4.86,15.46\\n', '76,117,Nadal,7.45,6.54\\n', '77,120,Nadal,7.71,7.0\\n', '78,122,Nadal,4.86,6.49\\n', '79,123,Nadal,5.65,5.89\\n', '80,126,Djokovic,1.79,8.97\\n', '81,127,Djokovic,4.54,7.96\\n', '82,128,Djokovic,1.46,8.41\\n', '83,130,Nadal,4.38,17.18\\n', '84,131,Nadal,7.73,16.1\\n', '85,132,Nadal,0.89,17.09\\n', '86,134,Nadal,7.25,16.1\\n', '87,135,Nadal,3.67,16.76\\n', '88,136,Nadal,8.57,16.67\\n', '89,139,Djokovic,2.74,17.52\\n', '90,141,Djokovic,5.51,17.35\\n', '91,143,Djokovic,4.19,16.51\\n', '92,146,Djokovic,8.41,17.26\\n', '93,147,Nadal,5.04,5.22\\n', '94,149,Nadal,4.78,4.26\\n', '95,152,Nadal,2.13,7.91\\n', '96,154,Nadal,6.25,6.34\\n', '97,155,Nadal,1.74,7.05\\n', '98,156,Djokovic,8.19,6.79\\n', '99,157,Djokovic,2.04,10.23\\n', '100,158,Djokovic,8.2,8.13\\n', '101,161,Djokovic,8.14,6.14\\n', '102,162,Nadal,4.0,17.52\\n', '103,163,Nadal,8.46,16.67\\n', '104,164,Nadal,1.27,16.42\\n', '105,168,Nadal,0.97,17.18\\n', '106,169,Djokovic,3.5,17.87\\n', '107,170,Djokovic,4.91,16.92\\n', '108,171,Djokovic,0.95,16.84\\n', '109,173,Djokovic,5.28,16.1\\n', '110,174,Djokovic,1.3,16.26\\n', '111,175,Djokovic,5.07,16.76\\n', '112,176,Djokovic,1.05,15.3\\n', '113,178,Djokovic,8.07,17.18\\n', '114,179,Nadal,6.08,6.19\\n', '115,180,Nadal,4.64,7.42\\n', '116,182,Nadal,7.9,6.95\\n', '117,183,Nadal,4.58,7.0\\n', '118,186,Nadal,5.6,7.42\\n', '119,188,Djokovic,7.69,7.11\\n', '120,189,Djokovic,4.46,8.55\\n', '121,190,Djokovic,4.65,6.74\\n', '122,191,Djokovic,4.65,8.86\\n', '123,193,Djokovic,4.43,6.95\\n', '124,194,Djokovic,4.82,8.29\\n', '125,195,Djokovic,8.1,7.16\\n', '126,196,Djokovic,6.08,7.85\\n', '127,198,Nadal,4.41,16.42\\n', '128,199,Nadal,5.89,16.42\\n', '129,201,Nadal,2.38,17.43\\n', '130,202,Nadal,8.29,15.88\\n', '131,204,Nadal,3.21,16.24\\n', '132,206,Nadal,6.49,16.64\\n']\n"
     ]
    }
   ],
   "source": [
    "filePath = \"data/serves.csv\"\n",
    "\n",
    "file = open(filePath)\n",
    "\n",
    "print(file.readlines())"
   ]
  },
  {
   "cell_type": "code",
   "execution_count": 2,
   "metadata": {},
   "outputs": [],
   "source": [
    "filePath = \"data/serves.csv\"\n",
    "\n",
    "file = open(filePath)\n",
    "file_letto = file.readlines()"
   ]
  },
  {
   "cell_type": "code",
   "execution_count": 3,
   "metadata": {
    "scrolled": true
   },
   "outputs": [
    {
     "name": "stdout",
     "output_type": "stream",
     "text": [
      "[',rallyid,server,x,y\\n', '0,1,Djokovic,1.86,16.8\\n', '1,3,Djokovic,7.05,16.97\\n', '2,6,Djokovic,8.04,17.8\\n', '3,8,Nadal,4.44,16.24\\n', '4,9,Nadal,5.71,16.4\\n', '5,11,Nadal,4.66,16.24\\n', '6,13,Nadal,5.83,16.72\\n', '7,14,Nadal,0.98,17.3\\n', '8,15,Djokovic,5.58,5.41\\n', '9,17,Djokovic,3.87,10.83\\n', '10,18,Djokovic,5.14,6.51\\n', '11,20,Nadal,6.68,4.64\\n', '12,22,Nadal,2.77,6.71\\n', '13,23,Nadal,4.27,6.51\\n', '14,24,Nadal,7.55,6.66\\n', '15,25,Nadal,1.01,7.63\\n', '16,26,Nadal,5.03,6.32\\n', '17,28,Nadal,3.07,6.41\\n', '18,29,Nadal,7.98,5.93\\n', '19,30,Nadal,1.16,7.9\\n', '20,32,Djokovic,4.53,17.89\\n', '21,34,Djokovic,7.15,17.46\\n', '22,36,Nadal,3.19,16.16\\n', '23,37,Nadal,8.4,16.16\\n', '24,38,Nadal,4.53,15.92\\n', '25,40,Nadal,5.88,16.48\\n', '26,42,Nadal,3.68,16.56\\n', '27,43,Nadal,7.76,16.0\\n', '28,44,Djokovic,8.23,6.96\\n', '29,46,Djokovic,2.61,11.58\\n', '30,48,Djokovic,5.31,5.79\\n', '31,49,Djokovic,1.86,8.77\\n', '32,51,Nadal,7.08,6.81\\n', '33,54,Nadal,1.83,8.0\\n', '34,56,Nadal,5.3,6.36\\n', '35,57,Nadal,4.13,7.48\\n', '36,59,Djokovic,1.4,16.64\\n', '37,60,Djokovic,4.74,15.53\\n', '38,62,Djokovic,1.68,16.32\\n', '39,63,Djokovic,5.08,16.8\\n', '40,64,Djokovic,0.86,16.0\\n', '41,65,Nadal,1.63,16.26\\n', '42,66,Nadal,8.69,17.43\\n', '43,67,Nadal,4.63,17.09\\n', '44,70,Nadal,7.35,16.26\\n', '45,71,Nadal,4.91,15.54\\n', '46,73,Nadal,8.08,15.54\\n', '47,75,Djokovic,2.05,16.84\\n', '48,77,Djokovic,6.16,15.85\\n', '49,78,Djokovic,3.93,16.26\\n', '50,79,Djokovic,5.13,16.67\\n', '51,80,Nadal,5.24,6.79\\n', '52,82,Nadal,7.76,6.49\\n', '53,84,Nadal,3.14,7.48\\n', '54,86,Nadal,7.34,6.44\\n', '55,87,Nadal,1.6,7.91\\n', '56,89,Djokovic,5.9,5.94\\n', '57,91,Djokovic,2.89,9.56\\n', '58,92,Djokovic,5.0,5.94\\n', '59,93,Djokovic,4.92,10.41\\n', '60,94,Djokovic,4.65,6.85\\n', '61,96,Nadal,3.95,17.35\\n', '62,97,Nadal,8.08,17.01\\n', '63,98,Nadal,1.46,16.18\\n', '64,99,Nadal,7.63,16.01\\n', '65,100,Nadal,4.37,16.01\\n', '66,103,Djokovic,1.24,16.76\\n', '67,104,Djokovic,8.25,16.67\\n', '68,105,Djokovic,1.24,16.18\\n', '69,108,Djokovic,5.42,16.51\\n', '70,109,Djokovic,0.93,15.94\\n', '71,110,Djokovic,4.94,16.1\\n', '72,111,Djokovic,1.63,17.52\\n', '73,112,Djokovic,5.2,16.59\\n', '74,114,Djokovic,1.4,15.77\\n', '75,115,Djokovic,4.86,15.46\\n', '76,117,Nadal,7.45,6.54\\n', '77,120,Nadal,7.71,7.0\\n', '78,122,Nadal,4.86,6.49\\n', '79,123,Nadal,5.65,5.89\\n', '80,126,Djokovic,1.79,8.97\\n', '81,127,Djokovic,4.54,7.96\\n', '82,128,Djokovic,1.46,8.41\\n', '83,130,Nadal,4.38,17.18\\n', '84,131,Nadal,7.73,16.1\\n', '85,132,Nadal,0.89,17.09\\n', '86,134,Nadal,7.25,16.1\\n', '87,135,Nadal,3.67,16.76\\n', '88,136,Nadal,8.57,16.67\\n', '89,139,Djokovic,2.74,17.52\\n', '90,141,Djokovic,5.51,17.35\\n', '91,143,Djokovic,4.19,16.51\\n', '92,146,Djokovic,8.41,17.26\\n', '93,147,Nadal,5.04,5.22\\n', '94,149,Nadal,4.78,4.26\\n', '95,152,Nadal,2.13,7.91\\n', '96,154,Nadal,6.25,6.34\\n', '97,155,Nadal,1.74,7.05\\n', '98,156,Djokovic,8.19,6.79\\n', '99,157,Djokovic,2.04,10.23\\n', '100,158,Djokovic,8.2,8.13\\n', '101,161,Djokovic,8.14,6.14\\n', '102,162,Nadal,4.0,17.52\\n', '103,163,Nadal,8.46,16.67\\n', '104,164,Nadal,1.27,16.42\\n', '105,168,Nadal,0.97,17.18\\n', '106,169,Djokovic,3.5,17.87\\n', '107,170,Djokovic,4.91,16.92\\n', '108,171,Djokovic,0.95,16.84\\n', '109,173,Djokovic,5.28,16.1\\n', '110,174,Djokovic,1.3,16.26\\n', '111,175,Djokovic,5.07,16.76\\n', '112,176,Djokovic,1.05,15.3\\n', '113,178,Djokovic,8.07,17.18\\n', '114,179,Nadal,6.08,6.19\\n', '115,180,Nadal,4.64,7.42\\n', '116,182,Nadal,7.9,6.95\\n', '117,183,Nadal,4.58,7.0\\n', '118,186,Nadal,5.6,7.42\\n', '119,188,Djokovic,7.69,7.11\\n', '120,189,Djokovic,4.46,8.55\\n', '121,190,Djokovic,4.65,6.74\\n', '122,191,Djokovic,4.65,8.86\\n', '123,193,Djokovic,4.43,6.95\\n', '124,194,Djokovic,4.82,8.29\\n', '125,195,Djokovic,8.1,7.16\\n', '126,196,Djokovic,6.08,7.85\\n', '127,198,Nadal,4.41,16.42\\n', '128,199,Nadal,5.89,16.42\\n', '129,201,Nadal,2.38,17.43\\n', '130,202,Nadal,8.29,15.88\\n', '131,204,Nadal,3.21,16.24\\n', '132,206,Nadal,6.49,16.64\\n']\n"
     ]
    }
   ],
   "source": [
    "\n",
    "print(file_letto)"
   ]
  },
  {
   "cell_type": "code",
   "execution_count": 4,
   "metadata": {},
   "outputs": [
    {
     "name": "stdout",
     "output_type": "stream",
     "text": [
      ",rallyid,server,x,y\n",
      "\n"
     ]
    }
   ],
   "source": [
    "print(file_letto[0])\n"
   ]
  },
  {
   "cell_type": "code",
   "execution_count": 5,
   "metadata": {},
   "outputs": [
    {
     "data": {
      "text/html": [
       "<div>\n",
       "<style scoped>\n",
       "    .dataframe tbody tr th:only-of-type {\n",
       "        vertical-align: middle;\n",
       "    }\n",
       "\n",
       "    .dataframe tbody tr th {\n",
       "        vertical-align: top;\n",
       "    }\n",
       "\n",
       "    .dataframe thead th {\n",
       "        text-align: right;\n",
       "    }\n",
       "</style>\n",
       "<table border=\"1\" class=\"dataframe\">\n",
       "  <thead>\n",
       "    <tr style=\"text-align: right;\">\n",
       "      <th></th>\n",
       "      <th>rallyid</th>\n",
       "      <th>server</th>\n",
       "      <th>x</th>\n",
       "      <th>y</th>\n",
       "    </tr>\n",
       "  </thead>\n",
       "  <tbody>\n",
       "    <tr>\n",
       "      <th>0</th>\n",
       "      <td>1</td>\n",
       "      <td>Djokovic</td>\n",
       "      <td>1.86</td>\n",
       "      <td>16.80</td>\n",
       "    </tr>\n",
       "    <tr>\n",
       "      <th>1</th>\n",
       "      <td>3</td>\n",
       "      <td>Djokovic</td>\n",
       "      <td>7.05</td>\n",
       "      <td>16.97</td>\n",
       "    </tr>\n",
       "    <tr>\n",
       "      <th>2</th>\n",
       "      <td>6</td>\n",
       "      <td>Djokovic</td>\n",
       "      <td>8.04</td>\n",
       "      <td>17.80</td>\n",
       "    </tr>\n",
       "    <tr>\n",
       "      <th>3</th>\n",
       "      <td>8</td>\n",
       "      <td>Nadal</td>\n",
       "      <td>4.44</td>\n",
       "      <td>16.24</td>\n",
       "    </tr>\n",
       "    <tr>\n",
       "      <th>4</th>\n",
       "      <td>9</td>\n",
       "      <td>Nadal</td>\n",
       "      <td>5.71</td>\n",
       "      <td>16.40</td>\n",
       "    </tr>\n",
       "    <tr>\n",
       "      <th>...</th>\n",
       "      <td>...</td>\n",
       "      <td>...</td>\n",
       "      <td>...</td>\n",
       "      <td>...</td>\n",
       "    </tr>\n",
       "    <tr>\n",
       "      <th>128</th>\n",
       "      <td>199</td>\n",
       "      <td>Nadal</td>\n",
       "      <td>5.89</td>\n",
       "      <td>16.42</td>\n",
       "    </tr>\n",
       "    <tr>\n",
       "      <th>129</th>\n",
       "      <td>201</td>\n",
       "      <td>Nadal</td>\n",
       "      <td>2.38</td>\n",
       "      <td>17.43</td>\n",
       "    </tr>\n",
       "    <tr>\n",
       "      <th>130</th>\n",
       "      <td>202</td>\n",
       "      <td>Nadal</td>\n",
       "      <td>8.29</td>\n",
       "      <td>15.88</td>\n",
       "    </tr>\n",
       "    <tr>\n",
       "      <th>131</th>\n",
       "      <td>204</td>\n",
       "      <td>Nadal</td>\n",
       "      <td>3.21</td>\n",
       "      <td>16.24</td>\n",
       "    </tr>\n",
       "    <tr>\n",
       "      <th>132</th>\n",
       "      <td>206</td>\n",
       "      <td>Nadal</td>\n",
       "      <td>6.49</td>\n",
       "      <td>16.64</td>\n",
       "    </tr>\n",
       "  </tbody>\n",
       "</table>\n",
       "<p>133 rows × 4 columns</p>\n",
       "</div>"
      ],
      "text/plain": [
       "     rallyid    server     x      y\n",
       "0          1  Djokovic  1.86  16.80\n",
       "1          3  Djokovic  7.05  16.97\n",
       "2          6  Djokovic  8.04  17.80\n",
       "3          8     Nadal  4.44  16.24\n",
       "4          9     Nadal  5.71  16.40\n",
       "..       ...       ...   ...    ...\n",
       "128      199     Nadal  5.89  16.42\n",
       "129      201     Nadal  2.38  17.43\n",
       "130      202     Nadal  8.29  15.88\n",
       "131      204     Nadal  3.21  16.24\n",
       "132      206     Nadal  6.49  16.64\n",
       "\n",
       "[133 rows x 4 columns]"
      ]
     },
     "execution_count": 5,
     "metadata": {},
     "output_type": "execute_result"
    }
   ],
   "source": [
    "# import pandas as pd\n",
    "# pd.read_table(filePath, sep=',', index_col=0)"
   ]
  },
  {
   "cell_type": "code",
   "execution_count": 5,
   "metadata": {},
   "outputs": [
    {
     "name": "stdout",
     "output_type": "stream",
     "text": [
      "6\n"
     ]
    }
   ],
   "source": [
    "#prendiamo un campione di una riga per capire come lavorarci\n",
    "\n",
    "##Ricordiamo come si accede agli elementi di una lista\n",
    "lista = [10,5,6,1]\n",
    "print(lista[2])"
   ]
  },
  {
   "cell_type": "code",
   "execution_count": 18,
   "metadata": {},
   "outputs": [
    {
     "name": "stdout",
     "output_type": "stream",
     "text": [
      "0,1,Djokovic,1.86,16.8\n",
      "\n"
     ]
    }
   ],
   "source": [
    "campione = file_letto[1]\n",
    "print(campione)"
   ]
  },
  {
   "cell_type": "code",
   "execution_count": 13,
   "metadata": {},
   "outputs": [
    {
     "name": "stdout",
     "output_type": "stream",
     "text": [
      "<class 'str'>\n"
     ]
    }
   ],
   "source": [
    "print(type(campione))"
   ]
  },
  {
   "cell_type": "code",
   "execution_count": 19,
   "metadata": {},
   "outputs": [
    {
     "data": {
      "text/plain": [
       "'0,1,Djokovic,1.86,16.8\\n'"
      ]
     },
     "execution_count": 19,
     "metadata": {},
     "output_type": "execute_result"
    }
   ],
   "source": [
    "#vogliamo contare gli elementi nella stringa separati dalla virgola\n",
    "#questa cosa si fa con un METODO delle stringhe.\n",
    "# un METODO non è altro che una FUNZIONE applicabile solo a certi tipi\n",
    "# di oggetti\n",
    "\n",
    "#split(',') non funziona\n",
    "\n",
    "campione"
   ]
  },
  {
   "cell_type": "code",
   "execution_count": 30,
   "metadata": {},
   "outputs": [
    {
     "name": "stdout",
     "output_type": "stream",
     "text": [
      "['0', '1', 'Djokovic', '1.86', '16.8\\n']\n"
     ]
    }
   ],
   "source": [
    "splitted = campione.split(',')\n",
    "print(splitted)"
   ]
  },
  {
   "cell_type": "code",
   "execution_count": 29,
   "metadata": {},
   "outputs": [
    {
     "name": "stdout",
     "output_type": "stream",
     "text": [
      "['Hello', 'World', '!I', 'am', 'Python']\n"
     ]
    }
   ],
   "source": [
    "##esempio di split con sep=None\n",
    "sepnone = \"Hello        World !I         am  Python\".split()\n",
    "\n",
    "print(sepnone)"
   ]
  },
  {
   "cell_type": "code",
   "execution_count": 21,
   "metadata": {},
   "outputs": [
    {
     "name": "stdout",
     "output_type": "stream",
     "text": [
      "1.86\n"
     ]
    }
   ],
   "source": [
    "print(splitted[3])"
   ]
  },
  {
   "cell_type": "code",
   "execution_count": 31,
   "metadata": {},
   "outputs": [
    {
     "ename": "TypeError",
     "evalue": "can only concatenate str (not \"int\") to str",
     "output_type": "error",
     "traceback": [
      "\u001b[1;31m---------------------------------------------------------------------------\u001b[0m",
      "\u001b[1;31mTypeError\u001b[0m                                 Traceback (most recent call last)",
      "\u001b[1;32m<ipython-input-31-6db8867a5501>\u001b[0m in \u001b[0;36m<module>\u001b[1;34m\u001b[0m\n\u001b[1;32m----> 1\u001b[1;33m \u001b[0msplitted\u001b[0m\u001b[1;33m[\u001b[0m\u001b[1;36m3\u001b[0m\u001b[1;33m]\u001b[0m \u001b[1;33m+\u001b[0m \u001b[1;36m1\u001b[0m\u001b[1;33m\u001b[0m\u001b[1;33m\u001b[0m\u001b[0m\n\u001b[0m",
      "\u001b[1;31mTypeError\u001b[0m: can only concatenate str (not \"int\") to str"
     ]
    }
   ],
   "source": [
    "splitted[3] + 1"
   ]
  },
  {
   "cell_type": "code",
   "execution_count": null,
   "metadata": {},
   "outputs": [],
   "source": []
  },
  {
   "cell_type": "code",
   "execution_count": 9,
   "metadata": {},
   "outputs": [
    {
     "name": "stdout",
     "output_type": "stream",
     "text": [
      "['0', '1', 'Djokovic', '1.86', '16.8']\n"
     ]
    }
   ],
   "source": [
    "#lo \\n non ci piace, il metodo strip() toglie gli \\n\n",
    "stripped = campione.strip()\n",
    "splitted = stripped.split(',')\n",
    "print(splitted)"
   ]
  },
  {
   "cell_type": "code",
   "execution_count": 23,
   "metadata": {},
   "outputs": [
    {
     "name": "stdout",
     "output_type": "stream",
     "text": [
      "16.8\n"
     ]
    }
   ],
   "source": [
    "##due cose in coda:\n",
    "##stringhe numeriche vanno trasformate in numeri\n",
    "#'16.8' + 1\n",
    "var = float('16.8')\n",
    "variabile = float(splitted[-1])\n",
    "print(variabile)"
   ]
  },
  {
   "cell_type": "code",
   "execution_count": 25,
   "metadata": {},
   "outputs": [
    {
     "name": "stdout",
     "output_type": "stream",
     "text": [
      "[16.8, 18.6]\n",
      "[16.8, 18.6, 15.0]\n"
     ]
    }
   ],
   "source": [
    "lista = [16.8,18.6]\n",
    "print(lista)\n",
    "lista.append(15.0)\n",
    "print(lista)"
   ]
  },
  {
   "cell_type": "code",
   "execution_count": 1,
   "metadata": {},
   "outputs": [
    {
     "ename": "NameError",
     "evalue": "name 'append' is not defined",
     "output_type": "error",
     "traceback": [
      "\u001b[1;31m---------------------------------------------------------------------------\u001b[0m",
      "\u001b[1;31mNameError\u001b[0m                                 Traceback (most recent call last)",
      "\u001b[1;32m<ipython-input-1-4a96576f068e>\u001b[0m in \u001b[0;36m<module>\u001b[1;34m\u001b[0m\n\u001b[1;32m----> 1\u001b[1;33m \u001b[0mappend\u001b[0m\u001b[1;33m(\u001b[0m\u001b[1;36m15\u001b[0m\u001b[1;33m)\u001b[0m\u001b[1;33m\u001b[0m\u001b[1;33m\u001b[0m\u001b[0m\n\u001b[0m",
      "\u001b[1;31mNameError\u001b[0m: name 'append' is not defined"
     ]
    }
   ],
   "source": [
    "append(15)"
   ]
  },
  {
   "cell_type": "code",
   "execution_count": 19,
   "metadata": {},
   "outputs": [],
   "source": [
    "### Continue:\n",
    "##obiettivo: avere una lista delle X e delle Y di Nadal e Djokovic\n",
    "\n",
    "X = []\n",
    "Y = []\n",
    "\n",
    "for riga in file_letto[1:]:\n",
    "    riga_pulita = riga.strip()\n",
    "    riga_splittata = riga_pulita.split(',')\n",
    "    x_tmp = riga_splittata[3]\n",
    "    y_tmp = riga_splittata[-1]\n",
    "    \n",
    "    x_tmp_float = float(x_tmp)\n",
    "    y_tmp_float = float(y_tmp)\n",
    "    \n",
    "    X.append(x_tmp_float)\n",
    "    Y.append(y_tmp_float)"
   ]
  },
  {
   "cell_type": "code",
   "execution_count": 20,
   "metadata": {
    "scrolled": true
   },
   "outputs": [
    {
     "data": {
      "text/plain": [
       "['0,1,Djokovic,1.86,16.8\\n',\n",
       " '1,3,Djokovic,7.05,16.97\\n',\n",
       " '2,6,Djokovic,8.04,17.8\\n',\n",
       " '3,8,Nadal,4.44,16.24\\n',\n",
       " '4,9,Nadal,5.71,16.4\\n',\n",
       " '5,11,Nadal,4.66,16.24\\n',\n",
       " '6,13,Nadal,5.83,16.72\\n',\n",
       " '7,14,Nadal,0.98,17.3\\n',\n",
       " '8,15,Djokovic,5.58,5.41\\n',\n",
       " '9,17,Djokovic,3.87,10.83\\n',\n",
       " '10,18,Djokovic,5.14,6.51\\n',\n",
       " '11,20,Nadal,6.68,4.64\\n',\n",
       " '12,22,Nadal,2.77,6.71\\n',\n",
       " '13,23,Nadal,4.27,6.51\\n',\n",
       " '14,24,Nadal,7.55,6.66\\n',\n",
       " '15,25,Nadal,1.01,7.63\\n',\n",
       " '16,26,Nadal,5.03,6.32\\n',\n",
       " '17,28,Nadal,3.07,6.41\\n',\n",
       " '18,29,Nadal,7.98,5.93\\n',\n",
       " '19,30,Nadal,1.16,7.9\\n',\n",
       " '20,32,Djokovic,4.53,17.89\\n',\n",
       " '21,34,Djokovic,7.15,17.46\\n',\n",
       " '22,36,Nadal,3.19,16.16\\n',\n",
       " '23,37,Nadal,8.4,16.16\\n',\n",
       " '24,38,Nadal,4.53,15.92\\n',\n",
       " '25,40,Nadal,5.88,16.48\\n',\n",
       " '26,42,Nadal,3.68,16.56\\n',\n",
       " '27,43,Nadal,7.76,16.0\\n',\n",
       " '28,44,Djokovic,8.23,6.96\\n',\n",
       " '29,46,Djokovic,2.61,11.58\\n',\n",
       " '30,48,Djokovic,5.31,5.79\\n',\n",
       " '31,49,Djokovic,1.86,8.77\\n',\n",
       " '32,51,Nadal,7.08,6.81\\n',\n",
       " '33,54,Nadal,1.83,8.0\\n',\n",
       " '34,56,Nadal,5.3,6.36\\n',\n",
       " '35,57,Nadal,4.13,7.48\\n',\n",
       " '36,59,Djokovic,1.4,16.64\\n',\n",
       " '37,60,Djokovic,4.74,15.53\\n',\n",
       " '38,62,Djokovic,1.68,16.32\\n',\n",
       " '39,63,Djokovic,5.08,16.8\\n',\n",
       " '40,64,Djokovic,0.86,16.0\\n',\n",
       " '41,65,Nadal,1.63,16.26\\n',\n",
       " '42,66,Nadal,8.69,17.43\\n',\n",
       " '43,67,Nadal,4.63,17.09\\n',\n",
       " '44,70,Nadal,7.35,16.26\\n',\n",
       " '45,71,Nadal,4.91,15.54\\n',\n",
       " '46,73,Nadal,8.08,15.54\\n',\n",
       " '47,75,Djokovic,2.05,16.84\\n',\n",
       " '48,77,Djokovic,6.16,15.85\\n',\n",
       " '49,78,Djokovic,3.93,16.26\\n',\n",
       " '50,79,Djokovic,5.13,16.67\\n',\n",
       " '51,80,Nadal,5.24,6.79\\n',\n",
       " '52,82,Nadal,7.76,6.49\\n',\n",
       " '53,84,Nadal,3.14,7.48\\n',\n",
       " '54,86,Nadal,7.34,6.44\\n',\n",
       " '55,87,Nadal,1.6,7.91\\n',\n",
       " '56,89,Djokovic,5.9,5.94\\n',\n",
       " '57,91,Djokovic,2.89,9.56\\n',\n",
       " '58,92,Djokovic,5.0,5.94\\n',\n",
       " '59,93,Djokovic,4.92,10.41\\n',\n",
       " '60,94,Djokovic,4.65,6.85\\n',\n",
       " '61,96,Nadal,3.95,17.35\\n',\n",
       " '62,97,Nadal,8.08,17.01\\n',\n",
       " '63,98,Nadal,1.46,16.18\\n',\n",
       " '64,99,Nadal,7.63,16.01\\n',\n",
       " '65,100,Nadal,4.37,16.01\\n',\n",
       " '66,103,Djokovic,1.24,16.76\\n',\n",
       " '67,104,Djokovic,8.25,16.67\\n',\n",
       " '68,105,Djokovic,1.24,16.18\\n',\n",
       " '69,108,Djokovic,5.42,16.51\\n',\n",
       " '70,109,Djokovic,0.93,15.94\\n',\n",
       " '71,110,Djokovic,4.94,16.1\\n',\n",
       " '72,111,Djokovic,1.63,17.52\\n',\n",
       " '73,112,Djokovic,5.2,16.59\\n',\n",
       " '74,114,Djokovic,1.4,15.77\\n',\n",
       " '75,115,Djokovic,4.86,15.46\\n',\n",
       " '76,117,Nadal,7.45,6.54\\n',\n",
       " '77,120,Nadal,7.71,7.0\\n',\n",
       " '78,122,Nadal,4.86,6.49\\n',\n",
       " '79,123,Nadal,5.65,5.89\\n',\n",
       " '80,126,Djokovic,1.79,8.97\\n',\n",
       " '81,127,Djokovic,4.54,7.96\\n',\n",
       " '82,128,Djokovic,1.46,8.41\\n',\n",
       " '83,130,Nadal,4.38,17.18\\n',\n",
       " '84,131,Nadal,7.73,16.1\\n',\n",
       " '85,132,Nadal,0.89,17.09\\n',\n",
       " '86,134,Nadal,7.25,16.1\\n',\n",
       " '87,135,Nadal,3.67,16.76\\n',\n",
       " '88,136,Nadal,8.57,16.67\\n',\n",
       " '89,139,Djokovic,2.74,17.52\\n',\n",
       " '90,141,Djokovic,5.51,17.35\\n',\n",
       " '91,143,Djokovic,4.19,16.51\\n',\n",
       " '92,146,Djokovic,8.41,17.26\\n',\n",
       " '93,147,Nadal,5.04,5.22\\n',\n",
       " '94,149,Nadal,4.78,4.26\\n',\n",
       " '95,152,Nadal,2.13,7.91\\n',\n",
       " '96,154,Nadal,6.25,6.34\\n',\n",
       " '97,155,Nadal,1.74,7.05\\n',\n",
       " '98,156,Djokovic,8.19,6.79\\n',\n",
       " '99,157,Djokovic,2.04,10.23\\n',\n",
       " '100,158,Djokovic,8.2,8.13\\n',\n",
       " '101,161,Djokovic,8.14,6.14\\n',\n",
       " '102,162,Nadal,4.0,17.52\\n',\n",
       " '103,163,Nadal,8.46,16.67\\n',\n",
       " '104,164,Nadal,1.27,16.42\\n',\n",
       " '105,168,Nadal,0.97,17.18\\n',\n",
       " '106,169,Djokovic,3.5,17.87\\n',\n",
       " '107,170,Djokovic,4.91,16.92\\n',\n",
       " '108,171,Djokovic,0.95,16.84\\n',\n",
       " '109,173,Djokovic,5.28,16.1\\n',\n",
       " '110,174,Djokovic,1.3,16.26\\n',\n",
       " '111,175,Djokovic,5.07,16.76\\n',\n",
       " '112,176,Djokovic,1.05,15.3\\n',\n",
       " '113,178,Djokovic,8.07,17.18\\n',\n",
       " '114,179,Nadal,6.08,6.19\\n',\n",
       " '115,180,Nadal,4.64,7.42\\n',\n",
       " '116,182,Nadal,7.9,6.95\\n',\n",
       " '117,183,Nadal,4.58,7.0\\n',\n",
       " '118,186,Nadal,5.6,7.42\\n',\n",
       " '119,188,Djokovic,7.69,7.11\\n',\n",
       " '120,189,Djokovic,4.46,8.55\\n',\n",
       " '121,190,Djokovic,4.65,6.74\\n',\n",
       " '122,191,Djokovic,4.65,8.86\\n',\n",
       " '123,193,Djokovic,4.43,6.95\\n',\n",
       " '124,194,Djokovic,4.82,8.29\\n',\n",
       " '125,195,Djokovic,8.1,7.16\\n',\n",
       " '126,196,Djokovic,6.08,7.85\\n',\n",
       " '127,198,Nadal,4.41,16.42\\n',\n",
       " '128,199,Nadal,5.89,16.42\\n',\n",
       " '129,201,Nadal,2.38,17.43\\n',\n",
       " '130,202,Nadal,8.29,15.88\\n',\n",
       " '131,204,Nadal,3.21,16.24\\n',\n",
       " '132,206,Nadal,6.49,16.64\\n']"
      ]
     },
     "execution_count": 20,
     "metadata": {},
     "output_type": "execute_result"
    }
   ],
   "source": [
    "file_letto[1:] ## è sempre una lista! ( ci posso ciclare sopra)"
   ]
  },
  {
   "cell_type": "code",
   "execution_count": 21,
   "metadata": {},
   "outputs": [
    {
     "name": "stdout",
     "output_type": "stream",
     "text": [
      "[1.86, 7.05, 8.04, 4.44, 5.71, 4.66, 5.83, 0.98, 5.58, 3.87, 5.14, 6.68, 2.77, 4.27, 7.55, 1.01, 5.03, 3.07, 7.98, 1.16, 4.53, 7.15, 3.19, 8.4, 4.53, 5.88, 3.68, 7.76, 8.23, 2.61, 5.31, 1.86, 7.08, 1.83, 5.3, 4.13, 1.4, 4.74, 1.68, 5.08, 0.86, 1.63, 8.69, 4.63, 7.35, 4.91, 8.08, 2.05, 6.16, 3.93, 5.13, 5.24, 7.76, 3.14, 7.34, 1.6, 5.9, 2.89, 5.0, 4.92, 4.65, 3.95, 8.08, 1.46, 7.63, 4.37, 1.24, 8.25, 1.24, 5.42, 0.93, 4.94, 1.63, 5.2, 1.4, 4.86, 7.45, 7.71, 4.86, 5.65, 1.79, 4.54, 1.46, 4.38, 7.73, 0.89, 7.25, 3.67, 8.57, 2.74, 5.51, 4.19, 8.41, 5.04, 4.78, 2.13, 6.25, 1.74, 8.19, 2.04, 8.2, 8.14, 4.0, 8.46, 1.27, 0.97, 3.5, 4.91, 0.95, 5.28, 1.3, 5.07, 1.05, 8.07, 6.08, 4.64, 7.9, 4.58, 5.6, 7.69, 4.46, 4.65, 4.65, 4.43, 4.82, 8.1, 6.08, 4.41, 5.89, 2.38, 8.29, 3.21, 6.49]\n"
     ]
    }
   ],
   "source": [
    "#sanity check 1\n",
    "print(X)"
   ]
  },
  {
   "cell_type": "code",
   "execution_count": 22,
   "metadata": {},
   "outputs": [
    {
     "name": "stdout",
     "output_type": "stream",
     "text": [
      "[16.8, 16.97, 17.8, 16.24, 16.4, 16.24, 16.72, 17.3, 5.41, 10.83, 6.51, 4.64, 6.71, 6.51, 6.66, 7.63, 6.32, 6.41, 5.93, 7.9, 17.89, 17.46, 16.16, 16.16, 15.92, 16.48, 16.56, 16.0, 6.96, 11.58, 5.79, 8.77, 6.81, 8.0, 6.36, 7.48, 16.64, 15.53, 16.32, 16.8, 16.0, 16.26, 17.43, 17.09, 16.26, 15.54, 15.54, 16.84, 15.85, 16.26, 16.67, 6.79, 6.49, 7.48, 6.44, 7.91, 5.94, 9.56, 5.94, 10.41, 6.85, 17.35, 17.01, 16.18, 16.01, 16.01, 16.76, 16.67, 16.18, 16.51, 15.94, 16.1, 17.52, 16.59, 15.77, 15.46, 6.54, 7.0, 6.49, 5.89, 8.97, 7.96, 8.41, 17.18, 16.1, 17.09, 16.1, 16.76, 16.67, 17.52, 17.35, 16.51, 17.26, 5.22, 4.26, 7.91, 6.34, 7.05, 6.79, 10.23, 8.13, 6.14, 17.52, 16.67, 16.42, 17.18, 17.87, 16.92, 16.84, 16.1, 16.26, 16.76, 15.3, 17.18, 6.19, 7.42, 6.95, 7.0, 7.42, 7.11, 8.55, 6.74, 8.86, 6.95, 8.29, 7.16, 7.85, 16.42, 16.42, 17.43, 15.88, 16.24, 16.64]\n"
     ]
    }
   ],
   "source": [
    "#sanity check 2\n",
    "print(Y)"
   ]
  },
  {
   "cell_type": "code",
   "execution_count": 23,
   "metadata": {},
   "outputs": [
    {
     "name": "stdout",
     "output_type": "stream",
     "text": [
      "[1.86, 7.05, 8.04, 4.44, 5.71, 4.66, 5.83, 0.98, 5.58, 3.87, 5.14, 6.68, 2.77, 4.27, 7.55, 1.01, 5.03, 3.07, 7.98, 1.16, 4.53, 7.15, 3.19, 8.4, 4.53, 5.88, 3.68, 7.76, 8.23, 2.61, 5.31, 1.86, 7.08, 1.83, 5.3, 4.13, 1.4, 4.74, 1.68, 5.08, 0.86, 1.63, 8.69, 4.63, 7.35, 4.91, 8.08, 2.05, 6.16, 3.93, 5.13, 5.24, 7.76, 3.14, 7.34, 1.6, 5.9, 2.89, 5.0, 4.92, 4.65, 3.95, 8.08, 1.46, 7.63, 4.37, 1.24, 8.25, 1.24, 5.42, 0.93, 4.94, 1.63, 5.2, 1.4, 4.86, 7.45, 7.71, 4.86, 5.65, 1.79, 4.54, 1.46, 4.38, 7.73, 0.89, 7.25, 3.67, 8.57, 2.74, 5.51, 4.19, 8.41, 5.04, 4.78, 2.13, 6.25, 1.74, 8.19, 2.04, 8.2, 8.14, 4.0, 8.46, 1.27, 0.97, 3.5, 4.91, 0.95, 5.28, 1.3, 5.07, 1.05, 8.07, 6.08, 4.64, 7.9, 4.58, 5.6, 7.69, 4.46, 4.65, 4.65, 4.43, 4.82, 8.1, 6.08, 4.41, 5.89, 2.38, 8.29, 3.21, 6.49]\n"
     ]
    }
   ],
   "source": [
    "## accorciamo il codice\n",
    "X = []\n",
    "Y = []\n",
    "\n",
    "for riga in file_letto[1:]:\n",
    "    riga_pulita_splittata = riga.strip().split(',')   \n",
    "    X.append(float(riga_pulita_splittata[3]))\n",
    "    Y.append(float(riga_pulita_splittata[-1]))\n",
    "    \n",
    "print(X)"
   ]
  },
  {
   "cell_type": "code",
   "execution_count": 24,
   "metadata": {},
   "outputs": [],
   "source": [
    "#dividiamo le posizioni di Nadal da quelle di Djokovic\n",
    "x_nadal = []\n",
    "y_nadal = []\n",
    "x_djoko = []\n",
    "y_djoko = []\n",
    "\n",
    "for riga in file_letto: ##possiamo togliere la prima riga\n",
    "    riga_pulita_splittata = riga.strip().split(',') \n",
    "    if riga_pulita_splittata[2] == \"Nadal\":\n",
    "        x_nadal.append(float(riga_pulita_splittata[3]))\n",
    "        y_nadal.append(float(riga_pulita_splittata[-1]))\n",
    "    elif riga_pulita_splittata[2] == \"Djokovic\":\n",
    "        x_djoko.append(float(riga_pulita_splittata[3]))\n",
    "        y_djoko.append(float(riga_pulita_splittata[-1]))\n",
    "    "
   ]
  },
  {
   "cell_type": "code",
   "execution_count": 26,
   "metadata": {},
   "outputs": [
    {
     "name": "stdout",
     "output_type": "stream",
     "text": [
      "[4.44, 5.71, 4.66, 5.83, 0.98, 6.68, 2.77, 4.27, 7.55, 1.01, 5.03, 3.07, 7.98, 1.16, 3.19, 8.4, 4.53, 5.88, 3.68, 7.76, 7.08, 1.83, 5.3, 4.13, 1.63, 8.69, 4.63, 7.35, 4.91, 8.08, 5.24, 7.76, 3.14, 7.34, 1.6, 3.95, 8.08, 1.46, 7.63, 4.37, 7.45, 7.71, 4.86, 5.65, 4.38, 7.73, 0.89, 7.25, 3.67, 8.57, 5.04, 4.78, 2.13, 6.25, 1.74, 4.0, 8.46, 1.27, 0.97, 6.08, 4.64, 7.9, 4.58, 5.6, 4.41, 5.89, 2.38, 8.29, 3.21, 6.49]\n",
      "[1.86, 7.05, 8.04, 5.58, 3.87, 5.14, 4.53, 7.15, 8.23, 2.61, 5.31, 1.86, 1.4, 4.74, 1.68, 5.08, 0.86, 2.05, 6.16, 3.93, 5.13, 5.9, 2.89, 5.0, 4.92, 4.65, 1.24, 8.25, 1.24, 5.42, 0.93, 4.94, 1.63, 5.2, 1.4, 4.86, 1.79, 4.54, 1.46, 2.74, 5.51, 4.19, 8.41, 8.19, 2.04, 8.2, 8.14, 3.5, 4.91, 0.95, 5.28, 1.3, 5.07, 1.05, 8.07, 7.69, 4.46, 4.65, 4.65, 4.43, 4.82, 8.1, 6.08]\n",
      "[16.24, 16.4, 16.24, 16.72, 17.3, 4.64, 6.71, 6.51, 6.66, 7.63, 6.32, 6.41, 5.93, 7.9, 16.16, 16.16, 15.92, 16.48, 16.56, 16.0, 6.81, 8.0, 6.36, 7.48, 16.26, 17.43, 17.09, 16.26, 15.54, 15.54, 6.79, 6.49, 7.48, 6.44, 7.91, 17.35, 17.01, 16.18, 16.01, 16.01, 6.54, 7.0, 6.49, 5.89, 17.18, 16.1, 17.09, 16.1, 16.76, 16.67, 5.22, 4.26, 7.91, 6.34, 7.05, 17.52, 16.67, 16.42, 17.18, 6.19, 7.42, 6.95, 7.0, 7.42, 16.42, 16.42, 17.43, 15.88, 16.24, 16.64]\n",
      "[16.8, 16.97, 17.8, 5.41, 10.83, 6.51, 17.89, 17.46, 6.96, 11.58, 5.79, 8.77, 16.64, 15.53, 16.32, 16.8, 16.0, 16.84, 15.85, 16.26, 16.67, 5.94, 9.56, 5.94, 10.41, 6.85, 16.76, 16.67, 16.18, 16.51, 15.94, 16.1, 17.52, 16.59, 15.77, 15.46, 8.97, 7.96, 8.41, 17.52, 17.35, 16.51, 17.26, 6.79, 10.23, 8.13, 6.14, 17.87, 16.92, 16.84, 16.1, 16.26, 16.76, 15.3, 17.18, 7.11, 8.55, 6.74, 8.86, 6.95, 8.29, 7.16, 7.85]\n"
     ]
    }
   ],
   "source": [
    "print(x_nadal)\n",
    "print(x_djoko)\n",
    "print(y_nadal)\n",
    "print(y_djoko)"
   ]
  },
  {
   "cell_type": "code",
   "execution_count": 2,
   "metadata": {},
   "outputs": [
    {
     "ename": "NameError",
     "evalue": "name 'x_nadal' is not defined",
     "output_type": "error",
     "traceback": [
      "\u001b[1;31m---------------------------------------------------------------------------\u001b[0m",
      "\u001b[1;31mNameError\u001b[0m                                 Traceback (most recent call last)",
      "\u001b[1;32m<ipython-input-2-eeb6034ed5ff>\u001b[0m in \u001b[0;36m<module>\u001b[1;34m\u001b[0m\n\u001b[0;32m      1\u001b[0m \u001b[1;32mimport\u001b[0m \u001b[0mnumpy\u001b[0m \u001b[1;32mas\u001b[0m \u001b[0mnp\u001b[0m\u001b[1;33m\u001b[0m\u001b[1;33m\u001b[0m\u001b[0m\n\u001b[1;32m----> 2\u001b[1;33m \u001b[0mnp\u001b[0m\u001b[1;33m.\u001b[0m\u001b[0mmean\u001b[0m\u001b[1;33m(\u001b[0m\u001b[0mx_nadal\u001b[0m\u001b[1;33m)\u001b[0m\u001b[1;33m\u001b[0m\u001b[1;33m\u001b[0m\u001b[0m\n\u001b[0m",
      "\u001b[1;31mNameError\u001b[0m: name 'x_nadal' is not defined"
     ]
    }
   ],
   "source": []
  },
  {
   "cell_type": "code",
   "execution_count": null,
   "metadata": {},
   "outputs": [],
   "source": []
  }
 ],
 "metadata": {
  "kernelspec": {
   "display_name": "base",
   "language": "python",
   "name": "base"
  },
  "language_info": {
   "codemirror_mode": {
    "name": "ipython",
    "version": 3
   },
   "file_extension": ".py",
   "mimetype": "text/x-python",
   "name": "python",
   "nbconvert_exporter": "python",
   "pygments_lexer": "ipython3",
   "version": "3.8.8"
  }
 },
 "nbformat": 4,
 "nbformat_minor": 4
}
