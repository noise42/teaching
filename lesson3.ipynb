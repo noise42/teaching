{
 "cells": [
  {
   "cell_type": "code",
   "execution_count": null,
   "metadata": {},
   "outputs": [],
   "source": [
    "#nuovo tipo di variabile: Lista\n",
    "#chiamato anche array (serie di numeri ordinata)\n",
    "#esempio: 1,5,34,7878,2,8,-1,4,-35"
   ]
  },
  {
   "cell_type": "code",
   "execution_count": 1,
   "metadata": {},
   "outputs": [],
   "source": [
    "lista = [1, \n",
    "         5,\n",
    "         34,\n",
    "         7878,\n",
    "         2,\n",
    "         8,-1,4,-35]\n",
    "\n",
    "string_list = [\n",
    "    \"hello\",\n",
    "    \"world\",\n",
    "]"
   ]
  },
  {
   "cell_type": "code",
   "execution_count": 2,
   "metadata": {},
   "outputs": [
    {
     "name": "stdout",
     "output_type": "stream",
     "text": [
      "[1, 5, 34, 7878, 2, 8, -1, 4, -35]\n"
     ]
    }
   ],
   "source": [
    "print(lista)"
   ]
  },
  {
   "cell_type": "code",
   "execution_count": 4,
   "metadata": {},
   "outputs": [
    {
     "name": "stdout",
     "output_type": "stream",
     "text": [
      "1\n",
      "5\n",
      "34\n",
      "7878\n",
      "2\n",
      "8\n",
      "-1\n",
      "4\n",
      "-35\n"
     ]
    }
   ],
   "source": [
    "for var in lista:\n",
    "    #per ogni var contenuto in lista\n",
    "    print(var)\n",
    "    #var contiene di volta in volta i valori dell'iterabile\n",
    "    #(in questo caso la lista)\n"
   ]
  },
  {
   "cell_type": "code",
   "execution_count": 5,
   "metadata": {},
   "outputs": [
    {
     "name": "stdout",
     "output_type": "stream",
     "text": [
      "7878\n"
     ]
    }
   ],
   "source": [
    "massimo = -99999999\n",
    "for var in lista:\n",
    "    if var > massimo: #se il numero in arrivo è \n",
    "        #maggiore di quello già presente\n",
    "        massimo = var #dentro a massimo ci metto var\n",
    "    \n",
    "print(massimo)"
   ]
  },
  {
   "cell_type": "code",
   "execution_count": null,
   "metadata": {},
   "outputs": [],
   "source": [
    "###caso inefficiente\n",
    "lista1 = [12,12,5,12,512,512,321,56,]\n",
    "for var in lista1:\n",
    "    if var > massimo: #se il numero in arrivo è \n",
    "        #maggiore di quello già presente\n",
    "        massimo = var #dentro a massimo ci metto var\n",
    "        \n",
    "print(massimo)\n",
    "\n",
    "lista2 = [1,6,4,2457,653,652,4]\n",
    "for var in lista2:\n",
    "    if var > massimo: #se il numero in arrivo è \n",
    "        #maggiore di quello già presente\n",
    "        massimo = var #dentro a massimo ci metto var\n",
    "        \n",
    "print(massimo)\n",
    "\n",
    "lista2 = [1,6,4,2457,653,652,4]\n",
    "for var in lista2:\n",
    "    if var >= massimo: #se il numero in arrivo è \n",
    "        #maggiore di quello già presente\n",
    "        massimo = var #dentro a massimo ci metto var\n",
    "        \n",
    "print(massimo)\n",
    "\n",
    "lista2 = [1,6,4,2457,653,652,4]\n",
    "for var in lista4:\n",
    "    if var >= massimo: #se il numero in arrivo è \n",
    "        #maggiore di quello già presente\n",
    "        massimo = var #dentro a massimo ci metto var\n",
    "        \n",
    "print(massimo)\n",
    "\n",
    "lista2 = [1,6,4,2457,653,652,4]\n",
    "for var in lista5:\n",
    "    if var >= massimo: #se il numero in arrivo è \n",
    "        #maggiore di quello già presente\n",
    "        massimo = var #dentro a massimo ci metto var\n",
    "        \n",
    "print(massimo)"
   ]
  },
  {
   "cell_type": "code",
   "execution_count": null,
   "metadata": {},
   "outputs": [],
   "source": [
    "#codice efficiente\n",
    "lista1 = [1,6,4,2457,653,652,4]\n",
    "lista2 = [1,6,4,2457,653,652,4]\n",
    "lista3 = [1,6,4,257,653,652,4]\n",
    "lista4 = [1,6,4,2457,63,652,4]\n",
    "lista5 = [1,6,4,2457,653,652,4]\n",
    "\n",
    "calcolamax(lista1)\n",
    "calcolamax(lista2)\n",
    "calcolamax(lista3)\n",
    "calcolamax(lista4)\n",
    "calcolamax(lista5)\n"
   ]
  },
  {
   "cell_type": "code",
   "execution_count": 6,
   "metadata": {},
   "outputs": [
    {
     "name": "stdout",
     "output_type": "stream",
     "text": [
      "hello\n"
     ]
    }
   ],
   "source": [
    "print('hello')"
   ]
  },
  {
   "cell_type": "code",
   "execution_count": 12,
   "metadata": {},
   "outputs": [],
   "source": [
    "def calcolamax(lista_inesistente):\n",
    "    massimo = -99999999\n",
    "    for var in lista_inesistente:\n",
    "        if var > massimo:\n",
    "            massimo = var\n",
    "    print(massimo)"
   ]
  },
  {
   "cell_type": "code",
   "execution_count": 14,
   "metadata": {},
   "outputs": [
    {
     "name": "stdout",
     "output_type": "stream",
     "text": [
      "532\n",
      "12414\n",
      "12414\n"
     ]
    }
   ],
   "source": [
    "lista1 = [12,5,6,7,21,6,532,36,532,6]\n",
    "calcolamax(lista1)\n",
    "lista2 = [12414,12,5,6,224,7,2,]\n",
    "calcolamax(lista2)\n",
    "calcolamax(lista1+lista2)"
   ]
  },
  {
   "cell_type": "code",
   "execution_count": 15,
   "metadata": {},
   "outputs": [
    {
     "name": "stdout",
     "output_type": "stream",
     "text": [
      "12414\n"
     ]
    }
   ],
   "source": [
    "calcolamax(lista1+lista2)"
   ]
  },
  {
   "cell_type": "code",
   "execution_count": 16,
   "metadata": {},
   "outputs": [
    {
     "data": {
      "text/plain": [
       "[12, 5, 6, 7, 21, 6, 532, 36, 532, 6, 12414, 12, 5, 6, 224, 7, 2]"
      ]
     },
     "execution_count": 16,
     "metadata": {},
     "output_type": "execute_result"
    }
   ],
   "source": [
    "lista1+lista2"
   ]
  },
  {
   "cell_type": "code",
   "execution_count": null,
   "metadata": {},
   "outputs": [],
   "source": []
  }
 ],
 "metadata": {
  "kernelspec": {
   "display_name": "py36",
   "language": "python",
   "name": "py36"
  },
  "language_info": {
   "codemirror_mode": {
    "name": "ipython",
    "version": 3
   },
   "file_extension": ".py",
   "mimetype": "text/x-python",
   "name": "python",
   "nbconvert_exporter": "python",
   "pygments_lexer": "ipython3",
   "version": "3.8.8"
  }
 },
 "nbformat": 4,
 "nbformat_minor": 4
}
